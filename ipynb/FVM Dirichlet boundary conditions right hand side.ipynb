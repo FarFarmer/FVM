{
 "metadata": {
  "name": "FVM Dirichlet boundary conditions right hand side"
 },
 "nbformat": 3,
 "nbformat_minor": 0,
 "worksheets": [
  {
   "cells": [
    {
     "cell_type": "markdown",
     "metadata": {},
     "source": "Verify the rearrangement of the ghost cell equation with the Dirichlet boundary condition included,"
    },
    {
     "cell_type": "code",
     "collapsed": false,
     "input": "h1J, hJ, hJ1 = symbols(\"h_{J-1}, h_J, h_{J+1}\")\nhm, hp = symbols(\"h_{-}, h_{+}\")\nw1J, wJ, wJ1 = symbols(\"w_{J-1}, w_J, w_{J+1}\")\ngD = symbols(\"g_D\")\n",
     "language": "python",
     "metadata": {},
     "outputs": [],
     "prompt_number": 13
    },
    {
     "cell_type": "code",
     "collapsed": false,
     "input": "f1 = Eq(wJ1,solve(Eq(gD,hJ1*wJ/(2*hp) + hJ*wJ1/(2*hp)), wJ1)[0])\nf1",
     "language": "python",
     "metadata": {},
     "outputs": [
      {
       "latex": "$$w_{{J+1}} = \\frac{2 g_{D} h_{{+}} - h_{{J+1}} w_{J}}{h_{J}}$$",
       "metadata": {},
       "output_type": "pyout",
       "png": "[encoded data removed]",
       "prompt_number": 6,
       "text": "          2\u22c5g_D\u22c5h_{+} - h_{J+1}\u22c5w_J\nw_{J+1} = \u2500\u2500\u2500\u2500\u2500\u2500\u2500\u2500\u2500\u2500\u2500\u2500\u2500\u2500\u2500\u2500\u2500\u2500\u2500\u2500\u2500\u2500\u2500\u2500\u2500\n                     h_J           "
      }
     ],
     "prompt_number": 6
    },
    {
     "cell_type": "code",
     "collapsed": false,
     "input": "f1 = f1.subs(hJ1,hJ).simplify()\nf1",
     "language": "python",
     "metadata": {},
     "outputs": [
      {
       "latex": "$$w_{{J+1}} = 2 \\frac{g_{D} h_{{+}}}{h_{J}} - w_{J}$$",
       "metadata": {},
       "output_type": "pyout",
       "png": "[encoded data removed]",
       "prompt_number": 7,
       "text": "          2\u22c5g_D\u22c5h_{+}      \nw_{J+1} = \u2500\u2500\u2500\u2500\u2500\u2500\u2500\u2500\u2500\u2500\u2500 - w_J\n              h_J          "
      }
     ],
     "prompt_number": 7
    },
    {
     "cell_type": "markdown",
     "metadata": {},
     "source": "Now define the flux term $\\mathcal{F}_{J+1/2}$,\n"
    },
    {
     "cell_type": "code",
     "collapsed": false,
     "input": "a, d = symbols(\"a_{J+1/2}, d_{J+1/2}\")\nu, ux = symbols(\"u_{J+1/2}, u_{J+1/2}^{\\prime}\")\nf2 = Eq(Symbol(\"\\mathcal{F}_{J+1/2}\"), a*u - d*ux)\nf2",
     "language": "python",
     "metadata": {},
     "outputs": [
      {
       "latex": "$$\\mathcal{F}_{{J+1/2}} = a_{{J+1/2}} u_{{J+1/2}} - d_{{J+1/2}} u^{{\\prime}}_{{J+1/2}}$$",
       "metadata": {},
       "output_type": "pyout",
       "png": "[encoded data removed]",
       "prompt_number": 8,
       "text": "\\mathcal{F}_{J+1/2} = a_{J+1/2}\u22c5u_{J+1/2} - d_{J+1/2}\u22c5u_{J+1/2}^{\\prime}"
      }
     ],
     "prompt_number": 8
    },
    {
     "cell_type": "markdown",
     "metadata": {},
     "source": "Subs. in with the boundary condition and split the derviative into a finite difference,"
    },
    {
     "cell_type": "code",
     "collapsed": false,
     "input": "f3 = f2.subs(u, gD)\nf3",
     "language": "python",
     "metadata": {},
     "outputs": [
      {
       "latex": "$$\\mathcal{F}_{{J+1/2}} = a_{{J+1/2}} g_{D} - d_{{J+1/2}} u^{{\\prime}}_{{J+1/2}}$$",
       "metadata": {},
       "output_type": "pyout",
       "png": "[encoded data removed]",
       "prompt_number": 15,
       "text": "\\mathcal{F}_{J+1/2} = a_{J+1/2}\u22c5g_D - d_{J+1/2}\u22c5u_{J+1/2}^{\\prime}"
      }
     ],
     "prompt_number": 15
    },
    {
     "cell_type": "code",
     "collapsed": false,
     "input": "f3 = f3.subs(ux, (wJ1 - wJ)/hp )\nf3",
     "language": "python",
     "metadata": {},
     "outputs": [
      {
       "latex": "$$\\mathcal{F}_{{J+1/2}} = a_{{J+1/2}} g_{D} - \\frac{d_{{J+1/2}} \\left(- w_{J} + w_{{J+1}}\\right)}{h_{{+}}}$$",
       "metadata": {},
       "output_type": "pyout",
       "png": "[encoded data removed]",
       "prompt_number": 16,
       "text": "                                      d_{J+1/2}\u22c5(-w_J + w_{J+1})\n\\mathcal{F}_{J+1/2} = a_{J+1/2}\u22c5g_D - \u2500\u2500\u2500\u2500\u2500\u2500\u2500\u2500\u2500\u2500\u2500\u2500\u2500\u2500\u2500\u2500\u2500\u2500\u2500\u2500\u2500\u2500\u2500\u2500\u2500\u2500\n                                                h_{+}           "
      }
     ],
     "prompt_number": 16
    },
    {
     "cell_type": "markdown",
     "metadata": {},
     "source": "Isolate the derivative term and subs into with the value of the ghost cell"
    },
    {
     "cell_type": "code",
     "collapsed": false,
     "input": "f4 = (wJ1 - wJ)/hp \nf4 = f4.subs(wJ1, f1.rhs)\nf4 = f4.simplify()\nf4",
     "language": "python",
     "metadata": {},
     "outputs": [
      {
       "latex": "$$2 \\frac{g_{D}}{h_{J}} - 2 \\frac{w_{J}}{h_{{+}}}$$",
       "metadata": {},
       "output_type": "pyout",
       "png": "[encoded data removed]",
       "prompt_number": 17,
       "text": "2\u22c5g_D   2\u22c5w_J\n\u2500\u2500\u2500\u2500\u2500 - \u2500\u2500\u2500\u2500\u2500\n h_J    h_{+}"
      }
     ],
     "prompt_number": 17
    },
    {
     "cell_type": "markdown",
     "metadata": {},
     "source": "Now include this simplified term back into the flux definition"
    },
    {
     "cell_type": "code",
     "collapsed": false,
     "input": "f5 = f2.subs(u, gD)\nf5 = f5.subs(ux, f4)\nf5",
     "language": "python",
     "metadata": {},
     "outputs": [
      {
       "latex": "$$\\mathcal{F}_{{J+1/2}} = a_{{J+1/2}} g_{D} - d_{{J+1/2}} \\left(2 \\frac{g_{D}}{h_{J}} - 2 \\frac{w_{J}}{h_{{+}}}\\right)$$",
       "metadata": {},
       "output_type": "pyout",
       "png": "[encoded data removed]",
       "prompt_number": 18,
       "text": "                                                \u239b2\u22c5g_D   2\u22c5w_J\u239e\n\\mathcal{F}_{J+1/2} = a_{J+1/2}\u22c5g_D - d_{J+1/2}\u22c5\u239c\u2500\u2500\u2500\u2500\u2500 - \u2500\u2500\u2500\u2500\u2500\u239f\n                                                \u239d h_J    h_{+}\u23a0"
      }
     ],
     "prompt_number": 18
    },
    {
     "cell_type": "markdown",
     "metadata": {},
     "source": "This is an expression for the boundary flux which includes the Dirichlet boundary condition. Next we want to get the semi-discretised equation for the first cell, $w_J^{\\prime}$,"
    },
    {
     "cell_type": "code",
     "collapsed": false,
     "input": "F_left, F_right = symbols(\"\\mathcal{F}_{J-1/2}, \\mathcal{F}_{J+1/2}\")\ns1 = symbols(\"s_J\")\nf6 = Eq(Symbol(\"w_J^{\\prime}\"), -F_right/hJ + F_left/hJ + s1)\nf6",
     "language": "python",
     "metadata": {},
     "outputs": [
      {
       "latex": "$$w^{{\\prime}}_{J} = - \\frac{\\mathcal{F}_{{J+1/2}}}{h_{J}} + \\frac{\\mathcal{F}_{{J-1/2}}}{h_{J}} + s_{J}$$",
       "metadata": {},
       "output_type": "pyout",
       "png": "[encoded data removed]",
       "prompt_number": 19,
       "text": "                 \\mathcal{F}_{J+1/2}   \\mathcal{F}_{J-1/2}      \nw_J^{\\prime} = - \u2500\u2500\u2500\u2500\u2500\u2500\u2500\u2500\u2500\u2500\u2500\u2500\u2500\u2500\u2500\u2500\u2500\u2500\u2500 + \u2500\u2500\u2500\u2500\u2500\u2500\u2500\u2500\u2500\u2500\u2500\u2500\u2500\u2500\u2500\u2500\u2500\u2500\u2500 + s_J\n                         h_J                   h_J              "
      }
     ],
     "prompt_number": 19
    },
    {
     "cell_type": "markdown",
     "metadata": {},
     "source": "Need to define the flux term at the right left side boundary $\\mathcal{F}_{J-1/2}$,"
    },
    {
     "cell_type": "code",
     "collapsed": false,
     "input": "a1J, d1J = symbols(\"a_{J-1/2}, d_{J-1/2}\")\nu1J, u1Jx = symbols(\"u_{J-1/2},u_{J-1/2}^{\\prime}\")\nf7 = Eq(F_left, a1J*u1J - d1J*u1Jx)\nf7",
     "language": "python",
     "metadata": {},
     "outputs": [
      {
       "latex": "$$\\mathcal{F}_{{J-1/2}} = a_{{J-1/2}} u_{{J-1/2}} - d_{{J-1/2}} u^{{\\prime}}_{{J-1/2}}$$",
       "metadata": {},
       "output_type": "pyout",
       "png": "[encoded data removed]",
       "prompt_number": 21,
       "text": "\\mathcal{F}_{J-1/2} = a_{J-1/2}\u22c5u_{J-1/2} - d_{J-1/2}\u22c5u_{J-1/2}^{\\prime}"
      }
     ],
     "prompt_number": 21
    },
    {
     "cell_type": "markdown",
     "metadata": {},
     "source": "Define $u_{J-1/2}$ from linear interpolation,"
    },
    {
     "cell_type": "code",
     "collapsed": false,
     "input": "f8 = f7.subs(u1J, (hJ*w1J/(2*hm) + h1J*wJ/(2*hm)) )\nf8",
     "language": "python",
     "metadata": {},
     "outputs": [
      {
       "latex": "$$\\mathcal{F}_{{J-1/2}} = a_{{J-1/2}} \\left(\\frac{h_{J} w_{{J-1}}}{2 h_{{-}}} + \\frac{h_{{J-1}} w_{J}}{2 h_{{-}}}\\right) - d_{{J-1/2}} u^{{\\prime}}_{{J-1/2}}$$",
       "metadata": {},
       "output_type": "pyout",
       "png": "[encoded data removed]",
       "prompt_number": 23,
       "text": "                                \u239bh_J\u22c5w_{J-1}   h_{J-1}\u22c5w_J\u239e                   \n\\mathcal{F}_{J-1/2} = a_{J-1/2}\u22c5\u239c\u2500\u2500\u2500\u2500\u2500\u2500\u2500\u2500\u2500\u2500\u2500 + \u2500\u2500\u2500\u2500\u2500\u2500\u2500\u2500\u2500\u2500\u2500\u239f - d_{J-1/2}\u22c5u_{J-1\n                                \u239d  2\u22c5h_{-}       2\u22c5h_{-}  \u23a0                   \n\n            \n/2}^{\\prime}\n            "
      }
     ],
     "prompt_number": 23
    },
    {
     "cell_type": "markdown",
     "metadata": {},
     "source": "Use finite difference to approximate $u_{3/2}^{\\prime}$"
    },
    {
     "cell_type": "code",
     "collapsed": false,
     "input": "f8 = f8.subs(u1Jx, (wJ - w1J)/hm)\nf8",
     "language": "python",
     "metadata": {},
     "outputs": [
      {
       "latex": "$$\\mathcal{F}_{{J-1/2}} = a_{{J-1/2}} \\left(\\frac{h_{J} w_{{J-1}}}{2 h_{{-}}} + \\frac{h_{{J-1}} w_{J}}{2 h_{{-}}}\\right) - \\frac{d_{{J-1/2}} \\left(w_{J} - w_{{J-1}}\\right)}{h_{{-}}}$$",
       "metadata": {},
       "output_type": "pyout",
       "png": "[encoded data removed]",
       "prompt_number": 25,
       "text": "                                \u239bh_J\u22c5w_{J-1}   h_{J-1}\u22c5w_J\u239e   d_{J-1/2}\u22c5(w_J -\n\\mathcal{F}_{J-1/2} = a_{J-1/2}\u22c5\u239c\u2500\u2500\u2500\u2500\u2500\u2500\u2500\u2500\u2500\u2500\u2500 + \u2500\u2500\u2500\u2500\u2500\u2500\u2500\u2500\u2500\u2500\u2500\u239f - \u2500\u2500\u2500\u2500\u2500\u2500\u2500\u2500\u2500\u2500\u2500\u2500\u2500\u2500\u2500\u2500\n                                \u239d  2\u22c5h_{-}       2\u22c5h_{-}  \u23a0             h_{-} \n\n w_{J-1})\n\u2500\u2500\u2500\u2500\u2500\u2500\u2500\u2500\u2500\n         "
      }
     ],
     "prompt_number": 25
    },
    {
     "cell_type": "markdown",
     "metadata": {},
     "source": "Subs. the flux terms into the main semi-discretised equation,"
    },
    {
     "cell_type": "code",
     "collapsed": false,
     "input": "f9 = f6.subs(F_left, f5.rhs)\nf9 = f9.subs(F_right, f8.rhs)\nf9",
     "language": "python",
     "metadata": {},
     "outputs": [
      {
       "latex": "$$w^{{\\prime}}_{J} = s_{J} + \\frac{a_{{J+1/2}} g_{D} - d_{{J+1/2}} \\left(2 \\frac{g_{D}}{h_{J}} - 2 \\frac{w_{J}}{h_{{+}}}\\right)}{h_{J}} - \\frac{a_{{J-1/2}} \\left(\\frac{h_{J} w_{{J-1}}}{2 h_{{-}}} + \\frac{h_{{J-1}} w_{J}}{2 h_{{-}}}\\right) - \\frac{d_{{J-1/2}} \\left(w_{J} - w_{{J-1}}\\right)}{h_{{-}}}}{h_{J}}$$",
       "metadata": {},
       "output_type": "pyout",
       "png": "[encoded data removed]",
       "prompt_number": 26,
       "text": "                                               \u239b2\u22c5g_D   2\u22c5w_J\u239e             \u239bh_\n                     a_{J+1/2}\u22c5g_D - d_{J+1/2}\u22c5\u239c\u2500\u2500\u2500\u2500\u2500 - \u2500\u2500\u2500\u2500\u2500\u239f   a_{J-1/2}\u22c5\u239c\u2500\u2500\n                                               \u239d h_J    h_{+}\u23a0             \u239d  \nw_J^{\\prime} = s_J + \u2500\u2500\u2500\u2500\u2500\u2500\u2500\u2500\u2500\u2500\u2500\u2500\u2500\u2500\u2500\u2500\u2500\u2500\u2500\u2500\u2500\u2500\u2500\u2500\u2500\u2500\u2500\u2500\u2500\u2500\u2500\u2500\u2500\u2500\u2500\u2500\u2500\u2500\u2500\u2500\u2500 - \u2500\u2500\u2500\u2500\u2500\u2500\u2500\u2500\u2500\u2500\u2500\u2500\u2500\n                                        h_J                                   \n\nJ\u22c5w_{J-1}   h_{J-1}\u22c5w_J\u239e   d_{J-1/2}\u22c5(w_J - w_{J-1})\n\u2500\u2500\u2500\u2500\u2500\u2500\u2500\u2500\u2500 + \u2500\u2500\u2500\u2500\u2500\u2500\u2500\u2500\u2500\u2500\u2500\u239f - \u2500\u2500\u2500\u2500\u2500\u2500\u2500\u2500\u2500\u2500\u2500\u2500\u2500\u2500\u2500\u2500\u2500\u2500\u2500\u2500\u2500\u2500\u2500\u2500\u2500\n2\u22c5h_{-}       2\u22c5h_{-}  \u23a0             h_{-}          \n\u2500\u2500\u2500\u2500\u2500\u2500\u2500\u2500\u2500\u2500\u2500\u2500\u2500\u2500\u2500\u2500\u2500\u2500\u2500\u2500\u2500\u2500\u2500\u2500\u2500\u2500\u2500\u2500\u2500\u2500\u2500\u2500\u2500\u2500\u2500\u2500\u2500\u2500\u2500\u2500\u2500\u2500\u2500\u2500\u2500\u2500\u2500\u2500\u2500\u2500\u2500\u2500\n                  h_J                               "
      }
     ],
     "prompt_number": 26
    },
    {
     "cell_type": "markdown",
     "metadata": {},
     "source": "Factor for $w_1$ and $w_2$"
    },
    {
     "cell_type": "code",
     "collapsed": false,
     "input": "f10 = f9.factor([w1J,wJ])\nf10",
     "language": "python",
     "metadata": {},
     "outputs": [
      {
       "latex": "$$w^{{\\prime}}_{J} = - \\frac{- 2 a_{{J+1/2}} g_{D} h_{J} h_{{+}} h_{{-}} + 4 d_{{J+1/2}} g_{D} h_{{+}} h_{{-}} - 2 h_{J}^{2} h_{{+}} h_{{-}} s_{J} + w_{J} \\left(a_{{J-1/2}} h_{J} h_{{+}} h_{{J-1}} - 4 d_{{J+1/2}} h_{J} h_{{-}} - 2 d_{{J-1/2}} h_{J} h_{{+}}\\right) + w_{{J-1}} \\left(a_{{J-1/2}} h_{J}^{2} h_{{+}} + 2 d_{{J-1/2}} h_{J} h_{{+}}\\right)}{2 h_{J}^{2} h_{{+}} h_{{-}}}$$",
       "metadata": {},
       "output_type": "pyout",
       "png": "[encoded data removed]",
       "prompt_number": 27,
       "text": "                \u239b                                                             \n               -\u239d-2\u22c5a_{J+1/2}\u22c5g_D\u22c5h_J\u22c5h_{+}\u22c5h_{-} + 4\u22c5d_{J+1/2}\u22c5g_D\u22c5h_{+}\u22c5h_{-\nw_J^{\\prime} = \u2500\u2500\u2500\u2500\u2500\u2500\u2500\u2500\u2500\u2500\u2500\u2500\u2500\u2500\u2500\u2500\u2500\u2500\u2500\u2500\u2500\u2500\u2500\u2500\u2500\u2500\u2500\u2500\u2500\u2500\u2500\u2500\u2500\u2500\u2500\u2500\u2500\u2500\u2500\u2500\u2500\u2500\u2500\u2500\u2500\u2500\u2500\u2500\u2500\u2500\u2500\u2500\u2500\u2500\u2500\u2500\u2500\u2500\u2500\u2500\u2500\u2500\u2500\n                                                                              \n                                                                              \n\n         2                                                                    \n} - 2\u22c5h_J \u22c5h_{+}\u22c5h_{-}\u22c5s_J + w_J\u22c5(a_{J-1/2}\u22c5h_J\u22c5h_{+}\u22c5h_{J-1} - 4\u22c5d_{J+1/2}\u22c5h_\n\u2500\u2500\u2500\u2500\u2500\u2500\u2500\u2500\u2500\u2500\u2500\u2500\u2500\u2500\u2500\u2500\u2500\u2500\u2500\u2500\u2500\u2500\u2500\u2500\u2500\u2500\u2500\u2500\u2500\u2500\u2500\u2500\u2500\u2500\u2500\u2500\u2500\u2500\u2500\u2500\u2500\u2500\u2500\u2500\u2500\u2500\u2500\u2500\u2500\u2500\u2500\u2500\u2500\u2500\u2500\u2500\u2500\u2500\u2500\u2500\u2500\u2500\u2500\u2500\u2500\u2500\u2500\u2500\u2500\u2500\u2500\u2500\u2500\u2500\u2500\u2500\u2500\u2500\n                                                 2                            \n                                            2\u22c5h_J \u22c5h_{+}\u22c5h_{-}                \n\n                                           \u239b             2                    \nJ\u22c5h_{-} - 2\u22c5d_{J-1/2}\u22c5h_J\u22c5h_{+}) + w_{J-1}\u22c5\u239da_{J-1/2}\u22c5h_J \u22c5h_{+} + 2\u22c5d_{J-1/2}\n\u2500\u2500\u2500\u2500\u2500\u2500\u2500\u2500\u2500\u2500\u2500\u2500\u2500\u2500\u2500\u2500\u2500\u2500\u2500\u2500\u2500\u2500\u2500\u2500\u2500\u2500\u2500\u2500\u2500\u2500\u2500\u2500\u2500\u2500\u2500\u2500\u2500\u2500\u2500\u2500\u2500\u2500\u2500\u2500\u2500\u2500\u2500\u2500\u2500\u2500\u2500\u2500\u2500\u2500\u2500\u2500\u2500\u2500\u2500\u2500\u2500\u2500\u2500\u2500\u2500\u2500\u2500\u2500\u2500\u2500\u2500\u2500\u2500\u2500\u2500\u2500\u2500\u2500\n                                                                              \n                                                                              \n\n          \u239e\u239e\n\u22c5h_J\u22c5h_{+}\u23a0\u23a0\n\u2500\u2500\u2500\u2500\u2500\u2500\u2500\u2500\u2500\u2500\u2500\u2500\n            \n            "
      }
     ],
     "prompt_number": 27
    },
    {
     "cell_type": "code",
     "collapsed": false,
     "input": "f11 = f10.rhs.as_terms()[1][3].as_terms()[0][3][0]\nf11 = f11 / (2*hJ**2*hm*hp)\nf11 = f11.cancel()\nf11 = f11.factor(wJ/hJ)\nf11",
     "language": "python",
     "metadata": {},
     "outputs": [
      {
       "latex": "$$\\frac{w_{J} \\left(a_{{J-1/2}} h_{{+}} h_{{J-1}} - 4 d_{{J+1/2}} h_{{-}} - 2 d_{{J-1/2}} h_{{+}}\\right)}{2 h_{J} h_{{+}} h_{{-}}}$$",
       "metadata": {},
       "output_type": "pyout",
       "png": "[encoded data removed]",
       "prompt_number": 28,
       "text": "w_J\u22c5(a_{J-1/2}\u22c5h_{+}\u22c5h_{J-1} - 4\u22c5d_{J+1/2}\u22c5h_{-} - 2\u22c5d_{J-1/2}\u22c5h_{+})\n\u2500\u2500\u2500\u2500\u2500\u2500\u2500\u2500\u2500\u2500\u2500\u2500\u2500\u2500\u2500\u2500\u2500\u2500\u2500\u2500\u2500\u2500\u2500\u2500\u2500\u2500\u2500\u2500\u2500\u2500\u2500\u2500\u2500\u2500\u2500\u2500\u2500\u2500\u2500\u2500\u2500\u2500\u2500\u2500\u2500\u2500\u2500\u2500\u2500\u2500\u2500\u2500\u2500\u2500\u2500\u2500\u2500\u2500\u2500\u2500\u2500\u2500\u2500\u2500\u2500\u2500\u2500\u2500\u2500\n                          2\u22c5h_J\u22c5h_{+}\u22c5h_{-}                          "
      }
     ],
     "prompt_number": 28
    },
    {
     "cell_type": "markdown",
     "metadata": {},
     "source": "**The $w_J$ term**\n\nThis can simplify to,\n\n$$\n\\frac{w_J}{h_J}\\left( -\\frac{a_{J-1/2}h_{J-1}}{2h_{-}} + \\frac{2d_{J+1/2}}{h_{+}} + \\frac{d_{J-1/2}}{h_{-}} \\right)\n$$"
    },
    {
     "cell_type": "code",
     "collapsed": false,
     "input": "f12 = f10.rhs.as_terms()[1][3].as_terms()[0][4][0]\nf12 = f12 / (2*hJ**2*hm*hp)\nf12 = f12.cancel()\nf12 = f12.factor(w1J/hJ)\nf12",
     "language": "python",
     "metadata": {},
     "outputs": [
      {
       "latex": "$$\\frac{w_{{J-1}} \\left(a_{{J-1/2}} h_{J} + 2 d_{{J-1/2}}\\right)}{2 h_{J} h_{{-}}}$$",
       "metadata": {},
       "output_type": "pyout",
       "png": "[encoded data removed]",
       "prompt_number": 41,
       "text": "w_{J-1}\u22c5(a_{J-1/2}\u22c5h_J + 2\u22c5d_{J-1/2})\n\u2500\u2500\u2500\u2500\u2500\u2500\u2500\u2500\u2500\u2500\u2500\u2500\u2500\u2500\u2500\u2500\u2500\u2500\u2500\u2500\u2500\u2500\u2500\u2500\u2500\u2500\u2500\u2500\u2500\u2500\u2500\u2500\u2500\u2500\u2500\u2500\u2500\n             2\u22c5h_J\u22c5h_{-}             "
      }
     ],
     "prompt_number": 41
    },
    {
     "cell_type": "markdown",
     "metadata": {},
     "source": "**The $w_{J-1}$ term**\n\nThis can simplify to,\n\n$$\n\\frac{w_{J-1}}{h_J}\\left( -\\frac{a_{J-1/2}h_J}{2h_{-}} - \\frac{d_{J-1/2}}{h_{-}} \\right)\n$$"
    },
    {
     "cell_type": "markdown",
     "metadata": {},
     "source": "**The $b_D$ term**\n\nThis can simplify to,\n\n$$\n\\frac{g_D}{h_J}\\left( a_{J+1/2} - \\frac{2d_{J+1/2}}{h_J} \\right) + \\bar{s}_J\n$$ "
    },
    {
     "cell_type": "markdown",
     "metadata": {},
     "source": "-------------------\n"
    },
    {
     "cell_type": "code",
     "collapsed": false,
     "input": "",
     "language": "python",
     "metadata": {},
     "outputs": []
    }
   ],
   "metadata": {}
  }
 ]
}