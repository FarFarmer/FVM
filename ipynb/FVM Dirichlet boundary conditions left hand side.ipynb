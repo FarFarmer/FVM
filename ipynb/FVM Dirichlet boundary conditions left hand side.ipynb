{
 "metadata": {
  "name": "FVM Dirichlet boundary conditions left hand side"
 },
 "nbformat": 3,
 "nbformat_minor": 0,
 "worksheets": [
  {
   "cells": [
    {
     "cell_type": "markdown",
     "metadata": {},
     "source": "Verify the rearrangement of the ghost cell equation with the Dirichlet boundary condition included,"
    },
    {
     "cell_type": "code",
     "collapsed": false,
     "input": "h0, h1, h2 = symbols(\"h_0, h_1, h_2\")\nhm, hp = symbols(\"h_{-}, h_{+}\")\nw0, w1, w2 = symbols(\"w_0, w_1, w_2\")\ngD = symbols(\"g_D\")",
     "language": "python",
     "metadata": {},
     "outputs": [],
     "prompt_number": 65
    },
    {
     "cell_type": "code",
     "collapsed": false,
     "input": "f1 = Eq(w0,solve(Eq(gD,h1*w0/(2*hm) + h0*w1/(2*hm)), w0)[0])\nf1",
     "language": "python",
     "metadata": {},
     "outputs": [
      {
       "latex": "$$w_{0} = \\frac{2 g_{D} h_{{-}} - h_{0} w_{1}}{h_{1}}$$",
       "metadata": {},
       "output_type": "pyout",
       "png": "[encoded data removed]",
       "prompt_number": 59,
       "text": "     2\u22c5g_D\u22c5h_{-} - h\u2080\u22c5w\u2081\nw\u2080 = \u2500\u2500\u2500\u2500\u2500\u2500\u2500\u2500\u2500\u2500\u2500\u2500\u2500\u2500\u2500\u2500\u2500\u2500\u2500\n              h\u2081        "
      }
     ],
     "prompt_number": 59
    },
    {
     "cell_type": "code",
     "collapsed": false,
     "input": "f1 = f1.subs(h0,h1).simplify()\nf1",
     "language": "python",
     "metadata": {},
     "outputs": [
      {
       "latex": "$$w_{0} = 2 \\frac{g_{D} h_{{-}}}{h_{1}} - w_{1}$$",
       "metadata": {},
       "output_type": "pyout",
       "png": "[encoded data removed]",
       "prompt_number": 60,
       "text": "     2\u22c5g_D\u22c5h_{-}     \nw\u2080 = \u2500\u2500\u2500\u2500\u2500\u2500\u2500\u2500\u2500\u2500\u2500 - w\u2081\n          h\u2081         "
      }
     ],
     "prompt_number": 60
    },
    {
     "cell_type": "markdown",
     "metadata": {},
     "source": "Now define the flux term $\\mathcal{F}_{1/2}$,\n"
    },
    {
     "cell_type": "code",
     "collapsed": false,
     "input": "a, d = symbols(\"a_{1/2}, d_{1/2}\")\nu, ux = symbols(\"u_{1/2}, u_{1/2}^{\\prime}\")\nf2 = Eq(Symbol(\"\\mathcal{F}_{1/2}\"), a*u - d*ux)\nf2",
     "language": "python",
     "metadata": {},
     "outputs": [
      {
       "latex": "$$\\mathcal{F}_{{1/2}} = a_{{1/2}} u_{{1/2}} - d_{{1/2}} u^{{\\prime}}_{{1/2}}$$",
       "metadata": {},
       "output_type": "pyout",
       "png": "[encoded data removed]",
       "prompt_number": 38,
       "text": "\\mathcal{F}_{1/2} = a_{1/2}\u22c5u_{1/2} - d_{1/2}\u22c5u_{1/2}^{\\prime}"
      }
     ],
     "prompt_number": 38
    },
    {
     "cell_type": "markdown",
     "metadata": {},
     "source": "Subs. in with the boundary condition and split the derviative into a finite difference,"
    },
    {
     "cell_type": "code",
     "collapsed": false,
     "input": "f3 = f2.subs(u, gD)\nf3",
     "language": "python",
     "metadata": {},
     "outputs": [
      {
       "latex": "$$\\mathcal{F}_{{1/2}} = a_{{1/2}} g_{D} - d_{{1/2}} u^{{\\prime}}_{{1/2}}$$",
       "metadata": {},
       "output_type": "pyout",
       "png": "[encoded data removed]",
       "prompt_number": 39,
       "text": "\\mathcal{F}_{1/2} = a_{1/2}\u22c5g_D - d_{1/2}\u22c5u_{1/2}^{\\prime}"
      }
     ],
     "prompt_number": 39
    },
    {
     "cell_type": "code",
     "collapsed": false,
     "input": "f3 = f3.subs(ux, (w1 - w0)/hm)\nf3",
     "language": "python",
     "metadata": {},
     "outputs": [
      {
       "latex": "$$\\mathcal{F}_{{1/2}} = a_{{1/2}} g_{D} - \\frac{d_{{1/2}} \\left(- w_{0} + w_{1}\\right)}{h_{{-}}}$$",
       "metadata": {},
       "output_type": "pyout",
       "png": "[encoded data removed]",
       "prompt_number": 40,
       "text": "                                  d_{1/2}\u22c5(-w\u2080 + w\u2081)\n\\mathcal{F}_{1/2} = a_{1/2}\u22c5g_D - \u2500\u2500\u2500\u2500\u2500\u2500\u2500\u2500\u2500\u2500\u2500\u2500\u2500\u2500\u2500\u2500\u2500\u2500\n                                        h_{-}       "
      }
     ],
     "prompt_number": 40
    },
    {
     "cell_type": "markdown",
     "metadata": {},
     "source": "Isolate the derivative term and subs into with the value of the ghost cell"
    },
    {
     "cell_type": "code",
     "collapsed": false,
     "input": "f4 = (w1 - w0)/hm\nf4 = f4.subs(w0, f1.rhs)\nf4 = f4.simplify()\nf4",
     "language": "python",
     "metadata": {},
     "outputs": [
      {
       "latex": "$$- 2 \\frac{g_{D}}{h_{1}} + 2 \\frac{w_{1}}{h_{{-}}}$$",
       "metadata": {},
       "output_type": "pyout",
       "png": "[encoded data removed]",
       "prompt_number": 42,
       "text": "  2\u22c5g_D    2\u22c5w\u2081\n- \u2500\u2500\u2500\u2500\u2500 + \u2500\u2500\u2500\u2500\u2500\n    h\u2081    h_{-}"
      }
     ],
     "prompt_number": 42
    },
    {
     "cell_type": "markdown",
     "metadata": {},
     "source": "Now include this simplified term back into the flux definition"
    },
    {
     "cell_type": "code",
     "collapsed": false,
     "input": "f5 = f2.subs(u, gD)\nf5 = f5.subs(ux, f4)\nf5",
     "language": "python",
     "metadata": {},
     "outputs": [
      {
       "latex": "$$\\mathcal{F}_{{1/2}} = a_{{1/2}} g_{D} - d_{{1/2}} \\left(- 2 \\frac{g_{D}}{h_{1}} + 2 \\frac{w_{1}}{h_{{-}}}\\right)$$",
       "metadata": {},
       "output_type": "pyout",
       "png": "[encoded data removed]",
       "prompt_number": 44,
       "text": "                                          \u239b  2\u22c5g_D    2\u22c5w\u2081\u239e\n\\mathcal{F}_{1/2} = a_{1/2}\u22c5g_D - d_{1/2}\u22c5\u239c- \u2500\u2500\u2500\u2500\u2500 + \u2500\u2500\u2500\u2500\u2500\u239f\n                                          \u239d    h\u2081    h_{-}\u23a0"
      }
     ],
     "prompt_number": 44
    },
    {
     "cell_type": "markdown",
     "metadata": {},
     "source": "This is an expression for the boundary flux which includes the Dirichlet boundary condition. Next we want to get the semi-discretised equation for the first cell, $w_1^{\\prime}$,"
    },
    {
     "cell_type": "code",
     "collapsed": false,
     "input": "F_left, F_right = symbols(\"\\mathcal{F}_{1/2}, \\mathcal{F}_{3/2}\")\ns1 = symbols(\"s_1\")\nf6 = Eq(Symbol(\"w_1^{\\prime}\"), -F_right/h1 + F_left/h1 + s1)\nf6",
     "language": "python",
     "metadata": {},
     "outputs": [
      {
       "latex": "$$w^{{\\prime}}_{1} = \\frac{\\mathcal{F}_{{1/2}}}{h_{1}} - \\frac{\\mathcal{F}_{{3/2}}}{h_{1}} + s_{1}$$",
       "metadata": {},
       "output_type": "pyout",
       "png": "[encoded data removed]",
       "prompt_number": 53,
       "text": "               \\mathcal{F}_{1/2}   \\mathcal{F}_{3/2}     \nw_1^{\\prime} = \u2500\u2500\u2500\u2500\u2500\u2500\u2500\u2500\u2500\u2500\u2500\u2500\u2500\u2500\u2500\u2500\u2500 - \u2500\u2500\u2500\u2500\u2500\u2500\u2500\u2500\u2500\u2500\u2500\u2500\u2500\u2500\u2500\u2500\u2500 + s\u2081\n                       h\u2081                  h\u2081            "
      }
     ],
     "prompt_number": 53
    },
    {
     "cell_type": "markdown",
     "metadata": {},
     "source": "Need to define the flux term at the right hand side boundary $\\mathcal{F}_{3/2}$,"
    },
    {
     "cell_type": "code",
     "collapsed": false,
     "input": "a1, d1 = symbols(\"a_{3/2}, d_{3/2}\")\nu1, u1x = symbols(\"u_{3/2},u_{3/2}^{\\prime}\")\nf7 = Eq(F_right, a1*u1 - d1*u1x)\nf7",
     "language": "python",
     "metadata": {},
     "outputs": [
      {
       "latex": "$$\\mathcal{F}_{{3/2}} = a_{{3/2}} u_{{3/2}} - d_{{3/2}} u^{{\\prime}}_{{3/2}}$$",
       "metadata": {},
       "output_type": "pyout",
       "png": "[encoded data removed]",
       "prompt_number": 57,
       "text": "\\mathcal{F}_{3/2} = a_{3/2}\u22c5u_{3/2} - d_{3/2}\u22c5u_{3/2}^{\\prime}"
      }
     ],
     "prompt_number": 57
    },
    {
     "cell_type": "markdown",
     "metadata": {},
     "source": "Define $u_{3/2}$ from linear interpolation,"
    },
    {
     "cell_type": "code",
     "collapsed": false,
     "input": "f8 = f7.subs(u1, (h2*w1/(2*hp) + h1*w2/(2*hp)) )\nf8",
     "language": "python",
     "metadata": {},
     "outputs": [
      {
       "latex": "$$\\mathcal{F}_{{3/2}} = a_{{3/2}} \\left(\\frac{h_{1} w_{2}}{2 h_{{+}}} + \\frac{h_{2} w_{1}}{2 h_{{+}}}\\right) - d_{{3/2}} u^{{\\prime}}_{{3/2}}$$",
       "metadata": {},
       "output_type": "pyout",
       "png": "[encoded data removed]",
       "prompt_number": 71,
       "text": "                            \u239b h\u2081\u22c5w\u2082     h\u2082\u22c5w\u2081 \u239e                           \n\\mathcal{F}_{3/2} = a_{3/2}\u22c5\u239c\u2500\u2500\u2500\u2500\u2500\u2500\u2500 + \u2500\u2500\u2500\u2500\u2500\u2500\u2500\u239f - d_{3/2}\u22c5u_{3/2}^{\\prime}\n                            \u239d2\u22c5h_{+}   2\u22c5h_{+}\u23a0                           "
      }
     ],
     "prompt_number": 71
    },
    {
     "cell_type": "markdown",
     "metadata": {},
     "source": "Use finite difference to approximate $u_{3/2}^{\\prime}$"
    },
    {
     "cell_type": "code",
     "collapsed": false,
     "input": "f8 = f8.subs(u1x, (w2 - w1)/hp)\nf8",
     "language": "python",
     "metadata": {},
     "outputs": [
      {
       "latex": "$$\\mathcal{F}_{{3/2}} = a_{{3/2}} \\left(\\frac{h_{1} w_{2}}{2 h_{{+}}} + \\frac{h_{2} w_{1}}{2 h_{{+}}}\\right) - \\frac{d_{{3/2}} \\left(- w_{1} + w_{2}\\right)}{h_{{+}}}$$",
       "metadata": {},
       "output_type": "pyout",
       "png": "[encoded data removed]",
       "prompt_number": 72,
       "text": "                            \u239b h\u2081\u22c5w\u2082     h\u2082\u22c5w\u2081 \u239e   d_{3/2}\u22c5(-w\u2081 + w\u2082)\n\\mathcal{F}_{3/2} = a_{3/2}\u22c5\u239c\u2500\u2500\u2500\u2500\u2500\u2500\u2500 + \u2500\u2500\u2500\u2500\u2500\u2500\u2500\u239f - \u2500\u2500\u2500\u2500\u2500\u2500\u2500\u2500\u2500\u2500\u2500\u2500\u2500\u2500\u2500\u2500\u2500\u2500\n                            \u239d2\u22c5h_{+}   2\u22c5h_{+}\u23a0         h_{+}       "
      }
     ],
     "prompt_number": 72
    },
    {
     "cell_type": "markdown",
     "metadata": {},
     "source": "Subs. the flux terms into the main semi-discretised equation,"
    },
    {
     "cell_type": "code",
     "collapsed": false,
     "input": "f9 = f6.subs(F_left, f5.rhs)\nf9 = f9.subs(F_right, f8.rhs)\nf9",
     "language": "python",
     "metadata": {},
     "outputs": [
      {
       "latex": "$$w^{{\\prime}}_{1} = s_{1} + \\frac{a_{{1/2}} g_{D} - d_{{1/2}} \\left(- 2 \\frac{g_{D}}{h_{1}} + 2 \\frac{w_{1}}{h_{{-}}}\\right)}{h_{1}} - \\frac{a_{{3/2}} \\left(\\frac{h_{1} w_{2}}{2 h_{{+}}} + \\frac{h_{2} w_{1}}{2 h_{{+}}}\\right) - \\frac{d_{{3/2}} \\left(- w_{1} + w_{2}\\right)}{h_{{+}}}}{h_{1}}$$",
       "metadata": {},
       "output_type": "pyout",
       "png": "[encoded data removed]",
       "prompt_number": 74,
       "text": "                                          \u239b  2\u22c5g_D    2\u22c5w\u2081\u239e           \u239b h\u2081\u22c5w\u2082 \n                    a_{1/2}\u22c5g_D - d_{1/2}\u22c5\u239c- \u2500\u2500\u2500\u2500\u2500 + \u2500\u2500\u2500\u2500\u2500\u239f   a_{3/2}\u22c5\u239c\u2500\u2500\u2500\u2500\u2500\u2500\u2500\n                                          \u239d    h\u2081    h_{-}\u23a0           \u239d2\u22c5h_{+}\nw_1^{\\prime} = s\u2081 + \u2500\u2500\u2500\u2500\u2500\u2500\u2500\u2500\u2500\u2500\u2500\u2500\u2500\u2500\u2500\u2500\u2500\u2500\u2500\u2500\u2500\u2500\u2500\u2500\u2500\u2500\u2500\u2500\u2500\u2500\u2500\u2500\u2500\u2500\u2500\u2500\u2500\u2500\u2500 - \u2500\u2500\u2500\u2500\u2500\u2500\u2500\u2500\u2500\u2500\u2500\u2500\u2500\u2500\u2500\u2500\n                                       h\u2081                                     \n\n    h\u2082\u22c5w\u2081 \u239e   d_{3/2}\u22c5(-w\u2081 + w\u2082)\n + \u2500\u2500\u2500\u2500\u2500\u2500\u2500\u239f - \u2500\u2500\u2500\u2500\u2500\u2500\u2500\u2500\u2500\u2500\u2500\u2500\u2500\u2500\u2500\u2500\u2500\u2500\n   2\u22c5h_{+}\u23a0         h_{+}       \n\u2500\u2500\u2500\u2500\u2500\u2500\u2500\u2500\u2500\u2500\u2500\u2500\u2500\u2500\u2500\u2500\u2500\u2500\u2500\u2500\u2500\u2500\u2500\u2500\u2500\u2500\u2500\u2500\u2500\u2500\u2500\u2500\n       h\u2081                       "
      }
     ],
     "prompt_number": 74
    },
    {
     "cell_type": "markdown",
     "metadata": {},
     "source": "Factor for $w_1$ and $w_2$"
    },
    {
     "cell_type": "code",
     "collapsed": false,
     "input": "f10 = f9.factor([w1,w2])\nf10",
     "language": "python",
     "metadata": {},
     "outputs": [
      {
       "latex": "$$w^{{\\prime}}_{1} = - \\frac{- 2 a_{{1/2}} g_{D} h_{1} h_{{+}} h_{{-}} - 4 d_{{1/2}} g_{D} h_{{+}} h_{{-}} - 2 h_{1}^{2} h_{{+}} h_{{-}} s_{1} + w_{1} \\left(a_{{3/2}} h_{1} h_{2} h_{{-}} + 4 d_{{1/2}} h_{1} h_{{+}} + 2 d_{{3/2}} h_{1} h_{{-}}\\right) + w_{2} \\left(a_{{3/2}} h_{1}^{2} h_{{-}} - 2 d_{{3/2}} h_{1} h_{{-}}\\right)}{2 h_{1}^{2} h_{{+}} h_{{-}}}$$",
       "metadata": {},
       "output_type": "pyout",
       "png": "[encoded data removed]",
       "prompt_number": 124,
       "text": "                \u239b                                                             \n               -\u239d-2\u22c5a_{1/2}\u22c5g_D\u22c5h\u2081\u22c5h_{+}\u22c5h_{-} - 4\u22c5d_{1/2}\u22c5g_D\u22c5h_{+}\u22c5h_{-} - 2\nw_1^{\\prime} = \u2500\u2500\u2500\u2500\u2500\u2500\u2500\u2500\u2500\u2500\u2500\u2500\u2500\u2500\u2500\u2500\u2500\u2500\u2500\u2500\u2500\u2500\u2500\u2500\u2500\u2500\u2500\u2500\u2500\u2500\u2500\u2500\u2500\u2500\u2500\u2500\u2500\u2500\u2500\u2500\u2500\u2500\u2500\u2500\u2500\u2500\u2500\u2500\u2500\u2500\u2500\u2500\u2500\u2500\u2500\u2500\u2500\u2500\u2500\u2500\u2500\u2500\u2500\n                                                                              \n                                                                              \n\n   2                                                                          \n\u22c5h\u2081 \u22c5h_{+}\u22c5h_{-}\u22c5s\u2081 + w\u2081\u22c5(a_{3/2}\u22c5h\u2081\u22c5h\u2082\u22c5h_{-} + 4\u22c5d_{1/2}\u22c5h\u2081\u22c5h_{+} + 2\u22c5d_{3/2}\n\u2500\u2500\u2500\u2500\u2500\u2500\u2500\u2500\u2500\u2500\u2500\u2500\u2500\u2500\u2500\u2500\u2500\u2500\u2500\u2500\u2500\u2500\u2500\u2500\u2500\u2500\u2500\u2500\u2500\u2500\u2500\u2500\u2500\u2500\u2500\u2500\u2500\u2500\u2500\u2500\u2500\u2500\u2500\u2500\u2500\u2500\u2500\u2500\u2500\u2500\u2500\u2500\u2500\u2500\u2500\u2500\u2500\u2500\u2500\u2500\u2500\u2500\u2500\u2500\u2500\u2500\u2500\u2500\u2500\u2500\u2500\u2500\u2500\u2500\u2500\u2500\u2500\u2500\n                               2                                              \n                           2\u22c5h\u2081 \u22c5h_{+}\u22c5h_{-}                                  \n\n                \u239b          2                           \u239e\u239e\n\u22c5h\u2081\u22c5h_{-}) + w\u2082\u22c5\u239da_{3/2}\u22c5h\u2081 \u22c5h_{-} - 2\u22c5d_{3/2}\u22c5h\u2081\u22c5h_{-}\u23a0\u23a0\n\u2500\u2500\u2500\u2500\u2500\u2500\u2500\u2500\u2500\u2500\u2500\u2500\u2500\u2500\u2500\u2500\u2500\u2500\u2500\u2500\u2500\u2500\u2500\u2500\u2500\u2500\u2500\u2500\u2500\u2500\u2500\u2500\u2500\u2500\u2500\u2500\u2500\u2500\u2500\u2500\u2500\u2500\u2500\u2500\u2500\u2500\u2500\u2500\u2500\u2500\u2500\u2500\u2500\u2500\u2500\u2500\u2500\n                                                         \n                                                         "
      }
     ],
     "prompt_number": 124
    },
    {
     "cell_type": "code",
     "collapsed": false,
     "input": "f11 = f10.rhs.as_terms()[1][3].as_terms()[0][3][0]\nf11 = -f11 / (2*h1**2*hm*hp)\nf11 = f11.cancel()\nf11 = f11.factor(w1/h1)\nf11",
     "language": "python",
     "metadata": {},
     "outputs": [
      {
       "latex": "$$- \\frac{w_{1} \\left(a_{{3/2}} h_{2} h_{{-}} + 4 d_{{1/2}} h_{{+}} + 2 d_{{3/2}} h_{{-}}\\right)}{2 h_{1} h_{{+}} h_{{-}}}$$",
       "metadata": {},
       "output_type": "pyout",
       "png": "[encoded data removed]",
       "prompt_number": 157,
       "text": "-w\u2081\u22c5(a_{3/2}\u22c5h\u2082\u22c5h_{-} + 4\u22c5d_{1/2}\u22c5h_{+} + 2\u22c5d_{3/2}\u22c5h_{-})\n\u2500\u2500\u2500\u2500\u2500\u2500\u2500\u2500\u2500\u2500\u2500\u2500\u2500\u2500\u2500\u2500\u2500\u2500\u2500\u2500\u2500\u2500\u2500\u2500\u2500\u2500\u2500\u2500\u2500\u2500\u2500\u2500\u2500\u2500\u2500\u2500\u2500\u2500\u2500\u2500\u2500\u2500\u2500\u2500\u2500\u2500\u2500\u2500\u2500\u2500\u2500\u2500\u2500\u2500\u2500\u2500\u2500\u2500\n                     2\u22c5h\u2081\u22c5h_{+}\u22c5h_{-}                     "
      }
     ],
     "prompt_number": 157
    },
    {
     "cell_type": "markdown",
     "metadata": {},
     "source": "**The $w_1$ term**\n\nThis can simplify to,\n\n$$\n\\frac{w_1}{h_1}\\left( -\\frac{a_{3/2}h_2}{2h_{+}} - \\frac{2d_{1/2}}{h_{-}} - \\frac{d_{3/2}}{h_{+}} \\right)\n$$"
    },
    {
     "cell_type": "code",
     "collapsed": false,
     "input": "f12 = f10.rhs.as_terms()[1][3].as_terms()[0][0][0]\nf12 = -f12 / (2*h1**2*hm*hp)\nf12 = f12.cancel()\nf12 = f12.factor(w2/h1)\nf12",
     "language": "python",
     "metadata": {},
     "outputs": [
      {
       "latex": "$$- \\frac{w_{2} \\left(a_{{3/2}} h_{1} - 2 d_{{3/2}}\\right)}{2 h_{1} h_{{+}}}$$",
       "metadata": {},
       "output_type": "pyout",
       "png": "[encoded data removed]",
       "prompt_number": 158,
       "text": "-w\u2082\u22c5(a_{3/2}\u22c5h\u2081 - 2\u22c5d_{3/2})\n\u2500\u2500\u2500\u2500\u2500\u2500\u2500\u2500\u2500\u2500\u2500\u2500\u2500\u2500\u2500\u2500\u2500\u2500\u2500\u2500\u2500\u2500\u2500\u2500\u2500\u2500\u2500\u2500\n         2\u22c5h\u2081\u22c5h_{+}         "
      }
     ],
     "prompt_number": 158
    },
    {
     "cell_type": "markdown",
     "metadata": {},
     "source": "**The $w_2$ term**\n\nThis can simplify to,\n\n$$\n\\frac{w_2}{h_1}\\left( -\\frac{a_{3/2}h_1}{2h_{+}} + \\frac{d_{3/2}}{h_{+}} \\right)\n$$"
    },
    {
     "cell_type": "markdown",
     "metadata": {},
     "source": "**The $b_D$ term**\n\nThis can simplify to,\n\n$$\n\\frac{g_D}{h_1}\\left( a_{1/2} + \\frac{2d_{1/2}}{h_1} \\right) + \\bar{s}_1\n$$ "
    },
    {
     "cell_type": "markdown",
     "metadata": {},
     "source": "-------------------\n"
    },
    {
     "cell_type": "code",
     "collapsed": false,
     "input": "",
     "language": "python",
     "metadata": {},
     "outputs": []
    }
   ],
   "metadata": {}
  }
 ]
}